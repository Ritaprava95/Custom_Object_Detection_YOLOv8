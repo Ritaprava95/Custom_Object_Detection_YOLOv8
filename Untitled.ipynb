{
 "cells": [
  {
   "cell_type": "code",
   "execution_count": 1,
   "id": "729740f6",
   "metadata": {},
   "outputs": [
    {
     "data": {
      "text/plain": [
       "array([  1,   2,   3,   4,   5,   6,   7,   8,   9,  10,  11,  12,  13,\n",
       "        14,  15,  16,  17,  18,  19,  20,  21,  22,  23,  24,  25,  26,\n",
       "        27,  28,  29,  30,  31,  32,  33,  34,  35,  36,  37,  38,  39,\n",
       "        40,  41,  42,  43,  44,  45,  46,  47,  48,  49,  50,  51,  52,\n",
       "        53,  54,  55,  56,  57,  58,  59,  60,  61,  62,  63,  64,  65,\n",
       "        66,  67,  68,  69,  70,  71,  72,  73,  74,  75,  76,  77,  78,\n",
       "        79,  80,  81,  82,  83,  84,  85,  86,  87,  88,  89,  90,  91,\n",
       "        92,  93,  94,  95,  96,  97,  98,  99, 100])"
      ]
     },
     "execution_count": 1,
     "metadata": {},
     "output_type": "execute_result"
    }
   ],
   "source": [
    "import numpy as np\n",
    "nums = np.array(range(1,101))\n",
    "nums"
   ]
  },
  {
   "cell_type": "code",
   "execution_count": 2,
   "id": "736cf487",
   "metadata": {},
   "outputs": [
    {
     "data": {
      "text/plain": [
       "array([    1,     4,     9,    16,    25,    36,    49,    64,    81,\n",
       "         100,   121,   144,   169,   196,   225,   256,   289,   324,\n",
       "         361,   400,   441,   484,   529,   576,   625,   676,   729,\n",
       "         784,   841,   900,   961,  1024,  1089,  1156,  1225,  1296,\n",
       "        1369,  1444,  1521,  1600,  1681,  1764,  1849,  1936,  2025,\n",
       "        2116,  2209,  2304,  2401,  2500,  2601,  2704,  2809,  2916,\n",
       "        3025,  3136,  3249,  3364,  3481,  3600,  3721,  3844,  3969,\n",
       "        4096,  4225,  4356,  4489,  4624,  4761,  4900,  5041,  5184,\n",
       "        5329,  5476,  5625,  5776,  5929,  6084,  6241,  6400,  6561,\n",
       "        6724,  6889,  7056,  7225,  7396,  7569,  7744,  7921,  8100,\n",
       "        8281,  8464,  8649,  8836,  9025,  9216,  9409,  9604,  9801,\n",
       "       10000])"
      ]
     },
     "execution_count": 2,
     "metadata": {},
     "output_type": "execute_result"
    }
   ],
   "source": [
    "sq_nums = np.square(nums)\n",
    "sq_nums"
   ]
  },
  {
   "cell_type": "code",
   "execution_count": 4,
   "id": "37beb3a4",
   "metadata": {},
   "outputs": [
    {
     "data": {
      "text/plain": [
       "{'a': 2,\n",
       " 'quick': 1,\n",
       " 'brown': 1,\n",
       " 'fox': 1,\n",
       " 'jumped': 1,\n",
       " 'over': 1,\n",
       " 'lazy': 1,\n",
       " 'dog': 1}"
      ]
     },
     "execution_count": 4,
     "metadata": {},
     "output_type": "execute_result"
    }
   ],
   "source": [
    "s = \"a quick brown fox jumped over a lazy dog\"\n",
    "s_l = s.split()\n",
    "d = {}\n",
    "for w in s_l:\n",
    "    if w not in d:\n",
    "        d[w]=1\n",
    "    else:\n",
    "        d[w]+=1\n",
    "d"
   ]
  },
  {
   "cell_type": "code",
   "execution_count": 9,
   "id": "bcff7bd7",
   "metadata": {},
   "outputs": [
    {
     "name": "stdout",
     "output_type": "stream",
     "text": [
      "Mean: 221.23 \n",
      "Median: 172.5\n"
     ]
    }
   ],
   "source": [
    "import random\n",
    "l = list(range(0, 500))\n",
    "nums = [random.choice(l) for i in range(100)]\n",
    "print('Mean:', np.mean(nums), '\\nMedian:', np.median(nums))"
   ]
  },
  {
   "cell_type": "code",
   "execution_count": 12,
   "id": "152387bc",
   "metadata": {},
   "outputs": [
    {
     "name": "stdout",
     "output_type": "stream",
     "text": [
      "More than mean: [270, 454, 443, 455, 463, 461, 356, 491, 397, 352, 364, 388, 293, 305, 454, 279, 382, 445, 424, 315, 292, 327, 371, 455, 340, 379, 357, 497, 384, 340, 261, 439, 362, 237, 489, 257, 295, 300, 450, 426, 463, 398, 307]\n",
      "Less than mean: [46, 47, 171, 157, 133, 130, 36, 49, 174, 121, 38, 112, 210, 51, 198, 113, 46, 215, 65, 204, 31, 14, 104, 129, 159, 39, 11, 148, 84, 55, 52, 128, 157, 95, 57, 134, 42, 2, 105, 155, 160, 126, 23, 2, 87, 3, 98, 107, 128, 165, 138, 133, 176, 56, 146, 128, 213]\n"
     ]
    }
   ],
   "source": [
    "above_mean = [i for i in nums if i>np.mean(nums)]\n",
    "below_mean = [i for i in nums if i<np.mean(nums)]\n",
    "print(\"More than mean:\", above_mean)\n",
    "print(\"Less than mean:\", below_mean)"
   ]
  },
  {
   "cell_type": "code",
   "execution_count": null,
   "id": "92965e6b",
   "metadata": {},
   "outputs": [],
   "source": []
  }
 ],
 "metadata": {
  "kernelspec": {
   "display_name": "Python 3 (ipykernel)",
   "language": "python",
   "name": "python3"
  },
  "language_info": {
   "codemirror_mode": {
    "name": "ipython",
    "version": 3
   },
   "file_extension": ".py",
   "mimetype": "text/x-python",
   "name": "python",
   "nbconvert_exporter": "python",
   "pygments_lexer": "ipython3",
   "version": "3.8.16"
  }
 },
 "nbformat": 4,
 "nbformat_minor": 5
}
